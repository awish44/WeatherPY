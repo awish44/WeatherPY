{
 "cells": [
  {
   "cell_type": "code",
   "execution_count": null,
   "metadata": {},
   "outputs": [],
   "source": [
    "# Dependencies and Setup\n",
    "import matplotlib.pyplot as plt\n",
    "import pandas as pd\n",
    "import numpy as np\n",
    "import requests\n",
    "import time\n",
    "import random\n",
    "\n",
    "# Import API key\n",
    "from api_keys import api_key\n",
    "\n",
    "# Incorporated citipy to determine city based on latitude and longitude\n",
    "from citipy import citipy\n",
    "\n",
    "# Output File (CSV)\n",
    "output_data_file = \"output_data/cities.csv\"\n",
    "\n",
    "# Range of latitudes and longitudes\n",
    "lat_range = {'min': -90, 'max': 90}\n",
    "lng_range = {'min': -180, 'max': 180}\n",
    "\n",
    "# Check API key imported correctly\n",
    "print(api_key)"
   ]
  },
  {
   "cell_type": "code",
   "execution_count": null,
   "metadata": {},
   "outputs": [],
   "source": [
    "# Create arrays containing increments of lat and long.\n",
    "lats_rndm = np.arange(lat_range['min'], lat_range['max'], 0.01)\n",
    "lngs_rndm = np.arange(lng_range['min'], lng_range['max'], 0.01)"
   ]
  },
  {
   "cell_type": "code",
   "execution_count": null,
   "metadata": {},
   "outputs": [],
   "source": [
    "# Create empty DF to hold data\n",
    "column_names = ('City', 'Cloudiness', 'Country', 'Date', 'Humidity', 'Lat', 'Lng', 'Max Temp', 'Wind Speed')\n",
    "cities_df = pd.DataFrame(columns=column_names)\n",
    "cities_df"
   ]
  },
  {
   "cell_type": "code",
   "execution_count": null,
   "metadata": {},
   "outputs": [],
   "source": [
    "# Enter url and units params\n",
    "weather_url = \"http://api.openweathermap.org/data/2.5/weather?\"\n",
    "units = \"imperial\"\n",
    "\n",
    "# Create list length and a counter\n",
    "counter = 0\n",
    "city_length = 500\n",
    "\n",
    "while len(cities_df) < city_length:\n",
    "    # Create a set of random lat and lng combinations\n",
    "    lats = random.choice(lats_rndm)\n",
    "    lngs = random.choice(lngs_rndm)\n",
    "    # User citipy to find random cities\n",
    "    city = citipy.nearest_city(lats, lngs)\n",
    "    city_name = city.city_name\n",
    "    country_code = city.country_code\n",
    "    # Use API and URl to get unique urls for each city\n",
    "    url = weather_url + city_name + ',' + country_code + '&units=' + units + '&APPID=' + api_key\n",
    "    weather_response = requests.get(url)\n",
    "    weather_json = weather_response.json()\n",
    "    if weather_json[\"cod\"] == 200:\n",
    "        print('City: %s. %s' % (weather_json['name'], url))\n",
    "        latitude = weather_json[\"coord\"][\"lat\"]\n",
    "        longitude = weather_json[\"coord\"][\"lon\"]\n",
    "        temp = weather_json[\"main\"][\"temp\"]\n",
    "        humidity = weather_json[\"main\"][\"humidity\"]\n",
    "        cloud = weather_json[\"clouds\"][\"all\"]\n",
    "        wind = weather_json[\"wind\"][\"speed\"]\n",
    "        # Avoid repeating cities\n",
    "        if city_name not in cities_df.city_name.values:\n",
    "            print('Status code: %s. DF length is now: %d' % (str(weather_json[\"cod\"]), len(cities_df)+1))\n",
    "            # Append data to df columns\n",
    "            cities_df.set_value(record, \"City\", city_name)\n",
    "            cities_df.set_value(record, \"Country\", country_code)\n",
    "            cities_df.set_value(record, \"Lat\", latitude)\n",
    "            cities_df.set_value(record, \"Lng\", longitude)\n",
    "            cities_df.set_value(record, \"Max Temp\", temp)\n",
    "            cities_df.set_value(record, \"Humidity\", humidity)\n",
    "            cities_df.set_value(record, \"Cloudiness\", cloud)\n",
    "            cities_df.set_value(record, \"Wind Speed\", wind)\n",
    "\n",
    "            counter += 1\n",
    "        \n",
    "            # Wait between 1-4 seconds before next loop\n",
    "            time.sleep(random.randint(1, 4))\n",
    "        else:\n",
    "            pass\n",
    "    else:\n",
    "        pass\n",
    "    \n",
    "print(\n",
    "\"------------------------------\\n\"\n",
    "\"Data Retrieval Complete\\n\"\n",
    "\"------------------------------\\n\"\n",
    ")\n",
    "\n",
    "# print dataframe\n",
    "cities_df.head()"
   ]
  },
  {
   "cell_type": "code",
   "execution_count": null,
   "metadata": {},
   "outputs": [],
   "source": [
    "# Save CSV\n",
    "cities_df.to_csv(\"Output/weatherpy_data.csv\", encoding=\"utf-8\", index=False)"
   ]
  }
 ],
 "metadata": {
  "kernelspec": {
   "display_name": "Python 3",
   "language": "python",
   "name": "python3"
  },
  "language_info": {
   "codemirror_mode": {
    "name": "ipython",
    "version": 3
   },
   "file_extension": ".py",
   "mimetype": "text/x-python",
   "name": "python",
   "nbconvert_exporter": "python",
   "pygments_lexer": "ipython3",
   "version": "3.7.0"
  }
 },
 "nbformat": 4,
 "nbformat_minor": 2
}
